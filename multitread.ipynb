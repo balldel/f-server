{
 "cells": [
  {
   "cell_type": "code",
   "execution_count": 1,
   "metadata": {},
   "outputs": [
    {
     "name": "stdout",
     "output_type": "stream",
     "text": [
      "come\n",
      "<multiprocessing.pool.ApplyResult object at 0x10ccfaac8>\n",
      "<multiprocessing.pool.ApplyResult object at 0x10ccfaac8>\n"
     ]
    }
   ],
   "source": [
    "from multiprocessing.dummy import Pool\n",
    "import time\n",
    "import requests\n",
    "\n",
    "pool = Pool(10) # Creates a pool with ten threads; more threads = more concurrency.\n",
    "                # \"pool\" is a module attribute; you can be sure there will only\n",
    "                # be one of them in your application\n",
    "                # as modules are cached after initialization.\n",
    "\n",
    "if __name__ == '__main__':\n",
    "    dell = pool.apply_async(requests.get, ['http://127.0.0.1:8000/skyscanner/api/country/?country=ch'])\n",
    "    print('come')\n",
    "    print(dell)\n",
    "    time.sleep(20)\n",
    "    print(dell)"
   ]
  },
  {
   "cell_type": "code",
   "execution_count": null,
   "metadata": {
    "collapsed": true
   },
   "outputs": [],
   "source": []
  }
 ],
 "metadata": {
  "kernelspec": {
   "display_name": "Python 3",
   "language": "python",
   "name": "python3"
  },
  "language_info": {
   "codemirror_mode": {
    "name": "ipython",
    "version": 3
   },
   "file_extension": ".py",
   "mimetype": "text/x-python",
   "name": "python",
   "nbconvert_exporter": "python",
   "pygments_lexer": "ipython3",
   "version": "3.6.4"
  }
 },
 "nbformat": 4,
 "nbformat_minor": 2
}
