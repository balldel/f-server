{
 "cells": [
  {
   "cell_type": "code",
   "execution_count": 19,
   "metadata": {},
   "outputs": [],
   "source": [
    "import threading as td\n",
    "import time\n",
    "import requests as RQ\n",
    "\n",
    "def worker():\n",
    "    print(td.currentThread().getName(), 'Starting')\n",
    "    time.sleep(10)\n",
    "    RQ.get('http://127.0.0.1:8000/skyscanner/api/country/?country=ch')\n",
    "    print(td.currentThread().getName(), 'Exiting')\n",
    "\n",
    "def my_service():\n",
    "    print(td.currentThread().getName(), 'Starting')\n",
    "    time.sleep(3)\n",
    "    print(td.currentThread().getName(), 'Exiting')\n",
    "\n",
    "t = td.Thread(name='my_service', target=my_service)\n",
    "w = td.Thread(name='worker', target=worker)\n",
    "w2 = td.Thread(target=worker)"
   ]
  },
  {
   "cell_type": "code",
   "execution_count": 20,
   "metadata": {},
   "outputs": [
    {
     "name": "stdout",
     "output_type": "stream",
     "text": [
      "worker Starting\n",
      "my_service Starting\n",
      "my_service Exiting\n",
      "worker Exiting\n"
     ]
    }
   ],
   "source": [
    "w.start()\n",
    "t.start()\n"
   ]
  },
  {
   "cell_type": "code",
   "execution_count": null,
   "metadata": {
    "collapsed": true
   },
   "outputs": [],
   "source": []
  }
 ],
 "metadata": {
  "kernelspec": {
   "display_name": "Python 3",
   "language": "python",
   "name": "python3"
  },
  "language_info": {
   "codemirror_mode": {
    "name": "ipython",
    "version": 3
   },
   "file_extension": ".py",
   "mimetype": "text/x-python",
   "name": "python",
   "nbconvert_exporter": "python",
   "pygments_lexer": "ipython3",
   "version": "3.6.2"
  }
 },
 "nbformat": 4,
 "nbformat_minor": 2
}
